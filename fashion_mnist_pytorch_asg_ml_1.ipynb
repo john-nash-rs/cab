{
  "nbformat": 4,
  "nbformat_minor": 0,
  "metadata": {
    "colab": {
      "provenance": [],
      "authorship_tag": "ABX9TyOJaEDU1Gk//t7v6SeFx96H",
      "include_colab_link": true
    },
    "kernelspec": {
      "name": "python3",
      "display_name": "Python 3"
    },
    "language_info": {
      "name": "python"
    }
  },
  "cells": [
    {
      "cell_type": "markdown",
      "metadata": {
        "id": "view-in-github",
        "colab_type": "text"
      },
      "source": [
        "<a href=\"https://colab.research.google.com/github/john-nash-rs/cab/blob/master/fashion_mnist_pytorch_asg_ml_1.ipynb\" target=\"_parent\"><img src=\"https://colab.research.google.com/assets/colab-badge.svg\" alt=\"Open In Colab\"/></a>"
      ]
    },
    {
      "cell_type": "markdown",
      "source": [
        "**Problem Statement**\n",
        "\n",
        "Use the Fashion MNIST dataset to train a neural network that predicts if an input image belongs to one of the following classes: \n",
        "> - T-shirt/top\n",
        "> -  Trouser\n",
        "> - Pullover\n",
        "> - Dress\n",
        "> - Coat\n",
        "> - Sandal\n",
        "> - Shirt\n",
        "> - Sneaker\n",
        "> - Bag\n",
        "> - Ankle boot\n",
        "\n"
      ],
      "metadata": {
        "id": "XCCBAwPNeCE0"
      }
    },
    {
      "cell_type": "markdown",
      "source": [
        "**General steps to approach a ML program**\n",
        "\n",
        "\n",
        "1.   Understand and visualisation of the dataset provided\n",
        "2.   Data Transformation by pre-processing, normalizing and transformation to tensor\n",
        "3.   Finding suitable ML classifier to train the model\n",
        "4.   Train the model - define loss and optimisation function\n",
        "5.   Test the model\n",
        "5.   Save the model\n",
        "6.   Use the model in live system to solve problem\n",
        "\n",
        "\n"
      ],
      "metadata": {
        "id": "_AknYDWpfikO"
      }
    },
    {
      "cell_type": "markdown",
      "source": [
        "**Understand the dataset provided**\n",
        "\n",
        "1. This data set is provided by Zalando - a berlin based online retail clothing company.\n",
        "2. It has the data of greyscale images of clothing articles.\n",
        "3. It consist of 60000 training data images.\n",
        "4. It consist of 10000 test data images.\n",
        "5. Each image is 28 pixel in height and 28 pixel in width. So, total pixel count is 784 pixels.\n",
        "6. Each pixel is associated with a number from 0 to 255 which represents lightness or darkness of the image. 255 means darkest shade where as 0 is lightest shade in a pixel.\n",
        "7. Dataset has total 785 columns. First column represents weather the image is  tshirt or trouser or shirt among all 9 possibilities. Rest 784 is data of image's pixels.\n",
        "8. To locate a pixel on the image, suppose that we have decomposed x as x = i * 28 + j, where i and j are integers between 0 and 27. The pixel is located on row i and column j of a 28 x 28 matrix.\n",
        "\n",
        "row 0 - [0,pixel 0-0, pixel 0-1,........pixel 27-27]\n",
        "row 1 -\n",
        ".\n",
        ".\n",
        ".\n",
        "row 60000 - [.............]\n"
      ],
      "metadata": {
        "id": "8vntOs-8iAin"
      }
    },
    {
      "cell_type": "markdown",
      "source": [
        "**Understading the dataset provided: visualise the dataset**\n",
        "\n",
        "Can we:\n",
        "\n",
        "1. see randomly how does data look like?\n",
        "2. visualise the articles - how does sweater look like? how does sandal look like? how does trouser look like? "
      ],
      "metadata": {
        "id": "yTlve80dqIrz"
      }
    },
    {
      "cell_type": "code",
      "source": [
        "import torch\n",
        "from torchvision import datasets\n",
        "from torchvision.transforms import ToTensor\n",
        "import matplotlib.pyplot as plt\n",
        "\n",
        "\n",
        "training_data = datasets.FashionMNIST(\n",
        "    root=\"data\",\n",
        "    train=True,\n",
        "    download=True,\n",
        "    transform=ToTensor()\n",
        ")\n",
        "\n",
        "test_data = datasets.FashionMNIST(\n",
        "    root=\"data\",\n",
        "    train=False,\n",
        "    download=True,\n",
        "    transform=ToTensor()\n",
        ")\n",
        "\n",
        "labels_map = {\n",
        "    0: \"T-Shirt\",\n",
        "    1: \"Trouser\",\n",
        "    2: \"Pullover\",\n",
        "    3: \"Dress\",\n",
        "    4: \"Coat\",\n",
        "    5: \"Sandal\",\n",
        "    6: \"Shirt\",\n",
        "    7: \"Sneaker\",\n",
        "    8: \"Bag\",\n",
        "    9: \"Ankle Boot\",\n",
        "}\n",
        "figure = plt.figure(figsize=(8, 8))\n",
        "cols, rows = 3, 3\n",
        "for i in range(1, cols * rows + 1):\n",
        "    sample_idx = torch.randint(len(training_data), size=(1,)).item()\n",
        "    img, label = training_data[sample_idx]\n",
        "    figure.add_subplot(rows, cols, i)\n",
        "    plt.title(labels_map[label])\n",
        "    plt.axis(\"off\")\n",
        "    plt.imshow(img.squeeze(), cmap=\"gray\")\n",
        "plt.show()"
      ],
      "metadata": {
        "colab": {
          "base_uri": "https://localhost:8080/",
          "height": 1000
        },
        "id": "Eixqh0xDzPP_",
        "outputId": "8e1cf8e4-e6c0-43ee-e99f-5f346f1d2b9d"
      },
      "execution_count": 1,
      "outputs": [
        {
          "output_type": "stream",
          "name": "stdout",
          "text": [
            "Downloading http://fashion-mnist.s3-website.eu-central-1.amazonaws.com/train-images-idx3-ubyte.gz\n",
            "Downloading http://fashion-mnist.s3-website.eu-central-1.amazonaws.com/train-images-idx3-ubyte.gz to data/FashionMNIST/raw/train-images-idx3-ubyte.gz\n"
          ]
        },
        {
          "output_type": "stream",
          "name": "stderr",
          "text": [
            "100%|██████████| 26421880/26421880 [00:01<00:00, 16885896.69it/s]\n"
          ]
        },
        {
          "output_type": "stream",
          "name": "stdout",
          "text": [
            "Extracting data/FashionMNIST/raw/train-images-idx3-ubyte.gz to data/FashionMNIST/raw\n",
            "\n",
            "Downloading http://fashion-mnist.s3-website.eu-central-1.amazonaws.com/train-labels-idx1-ubyte.gz\n",
            "Downloading http://fashion-mnist.s3-website.eu-central-1.amazonaws.com/train-labels-idx1-ubyte.gz to data/FashionMNIST/raw/train-labels-idx1-ubyte.gz\n"
          ]
        },
        {
          "output_type": "stream",
          "name": "stderr",
          "text": [
            "100%|██████████| 29515/29515 [00:00<00:00, 312457.90it/s]\n"
          ]
        },
        {
          "output_type": "stream",
          "name": "stdout",
          "text": [
            "Extracting data/FashionMNIST/raw/train-labels-idx1-ubyte.gz to data/FashionMNIST/raw\n",
            "\n",
            "Downloading http://fashion-mnist.s3-website.eu-central-1.amazonaws.com/t10k-images-idx3-ubyte.gz\n",
            "Downloading http://fashion-mnist.s3-website.eu-central-1.amazonaws.com/t10k-images-idx3-ubyte.gz to data/FashionMNIST/raw/t10k-images-idx3-ubyte.gz\n"
          ]
        },
        {
          "output_type": "stream",
          "name": "stderr",
          "text": [
            "100%|██████████| 4422102/4422102 [00:00<00:00, 5656851.70it/s]\n"
          ]
        },
        {
          "output_type": "stream",
          "name": "stdout",
          "text": [
            "Extracting data/FashionMNIST/raw/t10k-images-idx3-ubyte.gz to data/FashionMNIST/raw\n",
            "\n",
            "Downloading http://fashion-mnist.s3-website.eu-central-1.amazonaws.com/t10k-labels-idx1-ubyte.gz\n",
            "Downloading http://fashion-mnist.s3-website.eu-central-1.amazonaws.com/t10k-labels-idx1-ubyte.gz to data/FashionMNIST/raw/t10k-labels-idx1-ubyte.gz\n"
          ]
        },
        {
          "output_type": "stream",
          "name": "stderr",
          "text": [
            "100%|██████████| 5148/5148 [00:00<00:00, 1198771.76it/s]\n"
          ]
        },
        {
          "output_type": "stream",
          "name": "stdout",
          "text": [
            "Extracting data/FashionMNIST/raw/t10k-labels-idx1-ubyte.gz to data/FashionMNIST/raw\n",
            "\n"
          ]
        },
        {
          "output_type": "display_data",
          "data": {
            "text/plain": [
              "<Figure size 800x800 with 9 Axes>"
            ],
            "image/png": "[encoded data removed]"
          },
          "metadata": {}
        }
      ]
    }
  ]
}